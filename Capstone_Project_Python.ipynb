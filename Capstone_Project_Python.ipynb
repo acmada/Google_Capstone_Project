{
 "cells": [
  {
   "cell_type": "markdown",
   "id": "cb23f8ff",
   "metadata": {},
   "source": [
    "# Introduction"
   ]
  },
  {
   "cell_type": "markdown",
   "id": "1fa32f65",
   "metadata": {},
   "source": [
    "Bellabeat is a high-tech manufacturer of health-focused products for women. To unlock opportunities for the company to grow, usage data about one of the company's products is to be analyzed to determine how consumers are using their smart devices, and then give recommendations about what marketing strategy should be employed.\n",
    "\n",
    "The data used is a Fitbit usage dataset generated via a survey run in spring of 2016, with the provided data spanning from April 12, 2016 to May 9, 2016. It is hosted on Kaggle.com by user arashnic under a CC0 public domain license. The dataset provides daily, hourly, and minute-wise logs of steps taken, distance covered, physical activity intensity, calories, weight, and sleep time.\n",
    "\n",
    "One problem with the data is that it was collected six years ago, so it is not recent and may not reflect current consumers' usage habits. Another one is that the survey participants' demographics were not recorded, so it is unknown how many are women, the target consumer group, or whether all races and ethnicities are represented. Furthermore, the sample size is small, with about thirty participants total, and the survey time is brief, so it may not be representative of year-round or all potential users' smart device usage habits. However, the data should still be enough to get a general idea of what smart device users' health needs and habits are."
   ]
  },
  {
   "cell_type": "markdown",
   "id": "bb71de93",
   "metadata": {},
   "source": [
    "# Processing"
   ]
  },
  {
   "cell_type": "markdown",
   "id": "8fd468e2",
   "metadata": {},
   "source": [
    "The necessary libraries are imported and the data files to be used are read in. The files for this analysis will be the daily activity, sleep, and hourly intensity logs."
   ]
  },
  {
   "cell_type": "code",
   "execution_count": 25,
   "id": "1b9526e0",
   "metadata": {},
   "outputs": [],
   "source": [
    "# Set cell config to print all outputs\n",
    "from IPython.core.interactiveshell import InteractiveShell\n",
    "InteractiveShell.ast_node_interactivity = \"all\"\n",
    "\n",
    "# Import libraries\n",
    "import pandas as pd\n",
    "import seaborn as sns\n",
    "import matplotlib.pyplot as plt\n",
    "\n",
    "# Read in data as dataframes\n",
    "activity = pd.read_csv('Fitabase_Data_4.12.16-5.12.16\\dailyActivity_merged.csv')\n",
    "sleep = pd.read_csv('Fitabase_Data_4.12.16-5.12.16\\sleepDay_merged.csv')\n",
    "intensity = pd.read_csv('Fitabase_Data_4.12.16-5.12.16\\hourlyIntensities_merged.csv')"
   ]
  },
  {
   "cell_type": "markdown",
   "id": "d832160b",
   "metadata": {},
   "source": [
    "Check if there are any null or duplicated values in the data, and then drop the rows that contain them. Then, see how many unique ID's are in each dataframe, which will show how many participants gave their data for that category."
   ]
  },
  {
   "cell_type": "code",
   "execution_count": 26,
   "id": "bb86792f",
   "metadata": {},
   "outputs": [
    {
     "data": {
      "text/plain": [
       "0"
      ]
     },
     "execution_count": 26,
     "metadata": {},
     "output_type": "execute_result"
    },
    {
     "data": {
      "text/plain": [
       "0"
      ]
     },
     "execution_count": 26,
     "metadata": {},
     "output_type": "execute_result"
    },
    {
     "data": {
      "text/plain": [
       "0"
      ]
     },
     "execution_count": 26,
     "metadata": {},
     "output_type": "execute_result"
    },
    {
     "data": {
      "text/plain": [
       "0"
      ]
     },
     "execution_count": 26,
     "metadata": {},
     "output_type": "execute_result"
    },
    {
     "data": {
      "text/plain": [
       "3"
      ]
     },
     "execution_count": 26,
     "metadata": {},
     "output_type": "execute_result"
    },
    {
     "data": {
      "text/plain": [
       "0"
      ]
     },
     "execution_count": 26,
     "metadata": {},
     "output_type": "execute_result"
    },
    {
     "data": {
      "text/plain": [
       "33"
      ]
     },
     "execution_count": 26,
     "metadata": {},
     "output_type": "execute_result"
    },
    {
     "data": {
      "text/plain": [
       "24"
      ]
     },
     "execution_count": 26,
     "metadata": {},
     "output_type": "execute_result"
    },
    {
     "data": {
      "text/plain": [
       "33"
      ]
     },
     "execution_count": 26,
     "metadata": {},
     "output_type": "execute_result"
    }
   ],
   "source": [
    "# Find sum of all null values for each column\n",
    "activity.isna().sum().sum()\n",
    "sleep.isna().sum().sum()\n",
    "intensity.isna().sum().sum()\n",
    "\n",
    "# Find all duplicated rows\n",
    "activity.duplicated().sum()\n",
    "sleep.duplicated().sum()\n",
    "intensity.duplicated().sum()\n",
    "\n",
    "# Count number of unique ID's/participants\n",
    "activity['Id'].nunique()\n",
    "sleep['Id'].nunique()\n",
    "intensity['Id'].nunique()"
   ]
  },
  {
   "cell_type": "markdown",
   "id": "20f27a63",
   "metadata": {},
   "source": [
    "So there are no null values, the sleep dataframe contains three duplicated rows, and both the activity and intensity dataframes have 33 participants while the sleep dataframe has only 24. However, 24 participants is enough that the sleep dataset is still useful."
   ]
  },
  {
   "cell_type": "code",
   "execution_count": 27,
   "id": "0aef2034",
   "metadata": {},
   "outputs": [
    {
     "data": {
      "text/html": [
       "<div>\n",
       "<style scoped>\n",
       "    .dataframe tbody tr th:only-of-type {\n",
       "        vertical-align: middle;\n",
       "    }\n",
       "\n",
       "    .dataframe tbody tr th {\n",
       "        vertical-align: top;\n",
       "    }\n",
       "\n",
       "    .dataframe thead th {\n",
       "        text-align: right;\n",
       "    }\n",
       "</style>\n",
       "<table border=\"1\" class=\"dataframe\">\n",
       "  <thead>\n",
       "    <tr style=\"text-align: right;\">\n",
       "      <th></th>\n",
       "      <th>Id</th>\n",
       "      <th>ActivityDate</th>\n",
       "      <th>TotalSteps</th>\n",
       "      <th>TotalDistance</th>\n",
       "      <th>TrackerDistance</th>\n",
       "      <th>LoggedActivitiesDistance</th>\n",
       "      <th>VeryActiveDistance</th>\n",
       "      <th>ModeratelyActiveDistance</th>\n",
       "      <th>LightActiveDistance</th>\n",
       "      <th>SedentaryActiveDistance</th>\n",
       "      <th>VeryActiveMinutes</th>\n",
       "      <th>FairlyActiveMinutes</th>\n",
       "      <th>LightlyActiveMinutes</th>\n",
       "      <th>SedentaryMinutes</th>\n",
       "      <th>Calories</th>\n",
       "    </tr>\n",
       "  </thead>\n",
       "  <tbody>\n",
       "    <tr>\n",
       "      <th>0</th>\n",
       "      <td>1503960366</td>\n",
       "      <td>4/12/2016</td>\n",
       "      <td>13162</td>\n",
       "      <td>8.50</td>\n",
       "      <td>8.50</td>\n",
       "      <td>0.0</td>\n",
       "      <td>1.88</td>\n",
       "      <td>0.55</td>\n",
       "      <td>6.06</td>\n",
       "      <td>0.0</td>\n",
       "      <td>25</td>\n",
       "      <td>13</td>\n",
       "      <td>328</td>\n",
       "      <td>728</td>\n",
       "      <td>1985</td>\n",
       "    </tr>\n",
       "    <tr>\n",
       "      <th>1</th>\n",
       "      <td>1503960366</td>\n",
       "      <td>4/13/2016</td>\n",
       "      <td>10735</td>\n",
       "      <td>6.97</td>\n",
       "      <td>6.97</td>\n",
       "      <td>0.0</td>\n",
       "      <td>1.57</td>\n",
       "      <td>0.69</td>\n",
       "      <td>4.71</td>\n",
       "      <td>0.0</td>\n",
       "      <td>21</td>\n",
       "      <td>19</td>\n",
       "      <td>217</td>\n",
       "      <td>776</td>\n",
       "      <td>1797</td>\n",
       "    </tr>\n",
       "    <tr>\n",
       "      <th>2</th>\n",
       "      <td>1503960366</td>\n",
       "      <td>4/14/2016</td>\n",
       "      <td>10460</td>\n",
       "      <td>6.74</td>\n",
       "      <td>6.74</td>\n",
       "      <td>0.0</td>\n",
       "      <td>2.44</td>\n",
       "      <td>0.40</td>\n",
       "      <td>3.91</td>\n",
       "      <td>0.0</td>\n",
       "      <td>30</td>\n",
       "      <td>11</td>\n",
       "      <td>181</td>\n",
       "      <td>1218</td>\n",
       "      <td>1776</td>\n",
       "    </tr>\n",
       "    <tr>\n",
       "      <th>3</th>\n",
       "      <td>1503960366</td>\n",
       "      <td>4/15/2016</td>\n",
       "      <td>9762</td>\n",
       "      <td>6.28</td>\n",
       "      <td>6.28</td>\n",
       "      <td>0.0</td>\n",
       "      <td>2.14</td>\n",
       "      <td>1.26</td>\n",
       "      <td>2.83</td>\n",
       "      <td>0.0</td>\n",
       "      <td>29</td>\n",
       "      <td>34</td>\n",
       "      <td>209</td>\n",
       "      <td>726</td>\n",
       "      <td>1745</td>\n",
       "    </tr>\n",
       "    <tr>\n",
       "      <th>4</th>\n",
       "      <td>1503960366</td>\n",
       "      <td>4/16/2016</td>\n",
       "      <td>12669</td>\n",
       "      <td>8.16</td>\n",
       "      <td>8.16</td>\n",
       "      <td>0.0</td>\n",
       "      <td>2.71</td>\n",
       "      <td>0.41</td>\n",
       "      <td>5.04</td>\n",
       "      <td>0.0</td>\n",
       "      <td>36</td>\n",
       "      <td>10</td>\n",
       "      <td>221</td>\n",
       "      <td>773</td>\n",
       "      <td>1863</td>\n",
       "    </tr>\n",
       "  </tbody>\n",
       "</table>\n",
       "</div>"
      ],
      "text/plain": [
       "           Id ActivityDate  TotalSteps  TotalDistance  TrackerDistance  \\\n",
       "0  1503960366    4/12/2016       13162           8.50             8.50   \n",
       "1  1503960366    4/13/2016       10735           6.97             6.97   \n",
       "2  1503960366    4/14/2016       10460           6.74             6.74   \n",
       "3  1503960366    4/15/2016        9762           6.28             6.28   \n",
       "4  1503960366    4/16/2016       12669           8.16             8.16   \n",
       "\n",
       "   LoggedActivitiesDistance  VeryActiveDistance  ModeratelyActiveDistance  \\\n",
       "0                       0.0                1.88                      0.55   \n",
       "1                       0.0                1.57                      0.69   \n",
       "2                       0.0                2.44                      0.40   \n",
       "3                       0.0                2.14                      1.26   \n",
       "4                       0.0                2.71                      0.41   \n",
       "\n",
       "   LightActiveDistance  SedentaryActiveDistance  VeryActiveMinutes  \\\n",
       "0                 6.06                      0.0                 25   \n",
       "1                 4.71                      0.0                 21   \n",
       "2                 3.91                      0.0                 30   \n",
       "3                 2.83                      0.0                 29   \n",
       "4                 5.04                      0.0                 36   \n",
       "\n",
       "   FairlyActiveMinutes  LightlyActiveMinutes  SedentaryMinutes  Calories  \n",
       "0                   13                   328               728      1985  \n",
       "1                   19                   217               776      1797  \n",
       "2                   11                   181              1218      1776  \n",
       "3                   34                   209               726      1745  \n",
       "4                   10                   221               773      1863  "
      ]
     },
     "execution_count": 27,
     "metadata": {},
     "output_type": "execute_result"
    },
    {
     "data": {
      "text/html": [
       "<div>\n",
       "<style scoped>\n",
       "    .dataframe tbody tr th:only-of-type {\n",
       "        vertical-align: middle;\n",
       "    }\n",
       "\n",
       "    .dataframe tbody tr th {\n",
       "        vertical-align: top;\n",
       "    }\n",
       "\n",
       "    .dataframe thead th {\n",
       "        text-align: right;\n",
       "    }\n",
       "</style>\n",
       "<table border=\"1\" class=\"dataframe\">\n",
       "  <thead>\n",
       "    <tr style=\"text-align: right;\">\n",
       "      <th></th>\n",
       "      <th>Id</th>\n",
       "      <th>SleepDay</th>\n",
       "      <th>TotalSleepRecords</th>\n",
       "      <th>TotalMinutesAsleep</th>\n",
       "      <th>TotalTimeInBed</th>\n",
       "    </tr>\n",
       "  </thead>\n",
       "  <tbody>\n",
       "    <tr>\n",
       "      <th>0</th>\n",
       "      <td>1503960366</td>\n",
       "      <td>4/12/2016 12:00:00 AM</td>\n",
       "      <td>1</td>\n",
       "      <td>327</td>\n",
       "      <td>346</td>\n",
       "    </tr>\n",
       "    <tr>\n",
       "      <th>1</th>\n",
       "      <td>1503960366</td>\n",
       "      <td>4/13/2016 12:00:00 AM</td>\n",
       "      <td>2</td>\n",
       "      <td>384</td>\n",
       "      <td>407</td>\n",
       "    </tr>\n",
       "    <tr>\n",
       "      <th>2</th>\n",
       "      <td>1503960366</td>\n",
       "      <td>4/15/2016 12:00:00 AM</td>\n",
       "      <td>1</td>\n",
       "      <td>412</td>\n",
       "      <td>442</td>\n",
       "    </tr>\n",
       "    <tr>\n",
       "      <th>3</th>\n",
       "      <td>1503960366</td>\n",
       "      <td>4/16/2016 12:00:00 AM</td>\n",
       "      <td>2</td>\n",
       "      <td>340</td>\n",
       "      <td>367</td>\n",
       "    </tr>\n",
       "    <tr>\n",
       "      <th>4</th>\n",
       "      <td>1503960366</td>\n",
       "      <td>4/17/2016 12:00:00 AM</td>\n",
       "      <td>1</td>\n",
       "      <td>700</td>\n",
       "      <td>712</td>\n",
       "    </tr>\n",
       "  </tbody>\n",
       "</table>\n",
       "</div>"
      ],
      "text/plain": [
       "           Id               SleepDay  TotalSleepRecords  TotalMinutesAsleep  \\\n",
       "0  1503960366  4/12/2016 12:00:00 AM                  1                 327   \n",
       "1  1503960366  4/13/2016 12:00:00 AM                  2                 384   \n",
       "2  1503960366  4/15/2016 12:00:00 AM                  1                 412   \n",
       "3  1503960366  4/16/2016 12:00:00 AM                  2                 340   \n",
       "4  1503960366  4/17/2016 12:00:00 AM                  1                 700   \n",
       "\n",
       "   TotalTimeInBed  \n",
       "0             346  \n",
       "1             407  \n",
       "2             442  \n",
       "3             367  \n",
       "4             712  "
      ]
     },
     "execution_count": 27,
     "metadata": {},
     "output_type": "execute_result"
    },
    {
     "data": {
      "text/html": [
       "<div>\n",
       "<style scoped>\n",
       "    .dataframe tbody tr th:only-of-type {\n",
       "        vertical-align: middle;\n",
       "    }\n",
       "\n",
       "    .dataframe tbody tr th {\n",
       "        vertical-align: top;\n",
       "    }\n",
       "\n",
       "    .dataframe thead th {\n",
       "        text-align: right;\n",
       "    }\n",
       "</style>\n",
       "<table border=\"1\" class=\"dataframe\">\n",
       "  <thead>\n",
       "    <tr style=\"text-align: right;\">\n",
       "      <th></th>\n",
       "      <th>Id</th>\n",
       "      <th>ActivityHour</th>\n",
       "      <th>TotalIntensity</th>\n",
       "      <th>AverageIntensity</th>\n",
       "    </tr>\n",
       "  </thead>\n",
       "  <tbody>\n",
       "    <tr>\n",
       "      <th>0</th>\n",
       "      <td>1503960366</td>\n",
       "      <td>4/12/2016 12:00:00 AM</td>\n",
       "      <td>20</td>\n",
       "      <td>0.333333</td>\n",
       "    </tr>\n",
       "    <tr>\n",
       "      <th>1</th>\n",
       "      <td>1503960366</td>\n",
       "      <td>4/12/2016 1:00:00 AM</td>\n",
       "      <td>8</td>\n",
       "      <td>0.133333</td>\n",
       "    </tr>\n",
       "    <tr>\n",
       "      <th>2</th>\n",
       "      <td>1503960366</td>\n",
       "      <td>4/12/2016 2:00:00 AM</td>\n",
       "      <td>7</td>\n",
       "      <td>0.116667</td>\n",
       "    </tr>\n",
       "    <tr>\n",
       "      <th>3</th>\n",
       "      <td>1503960366</td>\n",
       "      <td>4/12/2016 3:00:00 AM</td>\n",
       "      <td>0</td>\n",
       "      <td>0.000000</td>\n",
       "    </tr>\n",
       "    <tr>\n",
       "      <th>4</th>\n",
       "      <td>1503960366</td>\n",
       "      <td>4/12/2016 4:00:00 AM</td>\n",
       "      <td>0</td>\n",
       "      <td>0.000000</td>\n",
       "    </tr>\n",
       "  </tbody>\n",
       "</table>\n",
       "</div>"
      ],
      "text/plain": [
       "           Id           ActivityHour  TotalIntensity  AverageIntensity\n",
       "0  1503960366  4/12/2016 12:00:00 AM              20          0.333333\n",
       "1  1503960366   4/12/2016 1:00:00 AM               8          0.133333\n",
       "2  1503960366   4/12/2016 2:00:00 AM               7          0.116667\n",
       "3  1503960366   4/12/2016 3:00:00 AM               0          0.000000\n",
       "4  1503960366   4/12/2016 4:00:00 AM               0          0.000000"
      ]
     },
     "execution_count": 27,
     "metadata": {},
     "output_type": "execute_result"
    }
   ],
   "source": [
    "# Drop the duplicated rows from the sleep dataframe\n",
    "sleep.drop_duplicates(inplace = True)\n",
    "\n",
    "# Get an overview of the data in the cleaned dataframes\n",
    "activity.head()\n",
    "sleep.head()\n",
    "intensity.head()"
   ]
  },
  {
   "cell_type": "markdown",
   "id": "747f355d",
   "metadata": {},
   "source": [
    "The dates are in the wrong format and should be converted to datetimes, which will make them easier to work with later. The times given in the sleep dataframe all appear to be 12:00:00 AM, so most likely they are default values and can be ignored, while those in the intensity dataframe will be converted to 24-hour format."
   ]
  },
  {
   "cell_type": "code",
   "execution_count": 28,
   "id": "3b221df8",
   "metadata": {},
   "outputs": [
    {
     "data": {
      "text/html": [
       "<div>\n",
       "<style scoped>\n",
       "    .dataframe tbody tr th:only-of-type {\n",
       "        vertical-align: middle;\n",
       "    }\n",
       "\n",
       "    .dataframe tbody tr th {\n",
       "        vertical-align: top;\n",
       "    }\n",
       "\n",
       "    .dataframe thead th {\n",
       "        text-align: right;\n",
       "    }\n",
       "</style>\n",
       "<table border=\"1\" class=\"dataframe\">\n",
       "  <thead>\n",
       "    <tr style=\"text-align: right;\">\n",
       "      <th></th>\n",
       "      <th>Id</th>\n",
       "      <th>ActivityDate</th>\n",
       "      <th>TotalSteps</th>\n",
       "      <th>TotalDistance</th>\n",
       "      <th>TrackerDistance</th>\n",
       "      <th>LoggedActivitiesDistance</th>\n",
       "      <th>VeryActiveDistance</th>\n",
       "      <th>ModeratelyActiveDistance</th>\n",
       "      <th>LightActiveDistance</th>\n",
       "      <th>SedentaryActiveDistance</th>\n",
       "      <th>VeryActiveMinutes</th>\n",
       "      <th>FairlyActiveMinutes</th>\n",
       "      <th>LightlyActiveMinutes</th>\n",
       "      <th>SedentaryMinutes</th>\n",
       "      <th>Calories</th>\n",
       "    </tr>\n",
       "  </thead>\n",
       "  <tbody>\n",
       "    <tr>\n",
       "      <th>0</th>\n",
       "      <td>1503960366</td>\n",
       "      <td>2016-04-12</td>\n",
       "      <td>13162</td>\n",
       "      <td>8.50</td>\n",
       "      <td>8.50</td>\n",
       "      <td>0.0</td>\n",
       "      <td>1.88</td>\n",
       "      <td>0.55</td>\n",
       "      <td>6.06</td>\n",
       "      <td>0.0</td>\n",
       "      <td>25</td>\n",
       "      <td>13</td>\n",
       "      <td>328</td>\n",
       "      <td>728</td>\n",
       "      <td>1985</td>\n",
       "    </tr>\n",
       "    <tr>\n",
       "      <th>1</th>\n",
       "      <td>1503960366</td>\n",
       "      <td>2016-04-13</td>\n",
       "      <td>10735</td>\n",
       "      <td>6.97</td>\n",
       "      <td>6.97</td>\n",
       "      <td>0.0</td>\n",
       "      <td>1.57</td>\n",
       "      <td>0.69</td>\n",
       "      <td>4.71</td>\n",
       "      <td>0.0</td>\n",
       "      <td>21</td>\n",
       "      <td>19</td>\n",
       "      <td>217</td>\n",
       "      <td>776</td>\n",
       "      <td>1797</td>\n",
       "    </tr>\n",
       "    <tr>\n",
       "      <th>2</th>\n",
       "      <td>1503960366</td>\n",
       "      <td>2016-04-14</td>\n",
       "      <td>10460</td>\n",
       "      <td>6.74</td>\n",
       "      <td>6.74</td>\n",
       "      <td>0.0</td>\n",
       "      <td>2.44</td>\n",
       "      <td>0.40</td>\n",
       "      <td>3.91</td>\n",
       "      <td>0.0</td>\n",
       "      <td>30</td>\n",
       "      <td>11</td>\n",
       "      <td>181</td>\n",
       "      <td>1218</td>\n",
       "      <td>1776</td>\n",
       "    </tr>\n",
       "    <tr>\n",
       "      <th>3</th>\n",
       "      <td>1503960366</td>\n",
       "      <td>2016-04-15</td>\n",
       "      <td>9762</td>\n",
       "      <td>6.28</td>\n",
       "      <td>6.28</td>\n",
       "      <td>0.0</td>\n",
       "      <td>2.14</td>\n",
       "      <td>1.26</td>\n",
       "      <td>2.83</td>\n",
       "      <td>0.0</td>\n",
       "      <td>29</td>\n",
       "      <td>34</td>\n",
       "      <td>209</td>\n",
       "      <td>726</td>\n",
       "      <td>1745</td>\n",
       "    </tr>\n",
       "    <tr>\n",
       "      <th>4</th>\n",
       "      <td>1503960366</td>\n",
       "      <td>2016-04-16</td>\n",
       "      <td>12669</td>\n",
       "      <td>8.16</td>\n",
       "      <td>8.16</td>\n",
       "      <td>0.0</td>\n",
       "      <td>2.71</td>\n",
       "      <td>0.41</td>\n",
       "      <td>5.04</td>\n",
       "      <td>0.0</td>\n",
       "      <td>36</td>\n",
       "      <td>10</td>\n",
       "      <td>221</td>\n",
       "      <td>773</td>\n",
       "      <td>1863</td>\n",
       "    </tr>\n",
       "  </tbody>\n",
       "</table>\n",
       "</div>"
      ],
      "text/plain": [
       "           Id ActivityDate  TotalSteps  TotalDistance  TrackerDistance  \\\n",
       "0  1503960366   2016-04-12       13162           8.50             8.50   \n",
       "1  1503960366   2016-04-13       10735           6.97             6.97   \n",
       "2  1503960366   2016-04-14       10460           6.74             6.74   \n",
       "3  1503960366   2016-04-15        9762           6.28             6.28   \n",
       "4  1503960366   2016-04-16       12669           8.16             8.16   \n",
       "\n",
       "   LoggedActivitiesDistance  VeryActiveDistance  ModeratelyActiveDistance  \\\n",
       "0                       0.0                1.88                      0.55   \n",
       "1                       0.0                1.57                      0.69   \n",
       "2                       0.0                2.44                      0.40   \n",
       "3                       0.0                2.14                      1.26   \n",
       "4                       0.0                2.71                      0.41   \n",
       "\n",
       "   LightActiveDistance  SedentaryActiveDistance  VeryActiveMinutes  \\\n",
       "0                 6.06                      0.0                 25   \n",
       "1                 4.71                      0.0                 21   \n",
       "2                 3.91                      0.0                 30   \n",
       "3                 2.83                      0.0                 29   \n",
       "4                 5.04                      0.0                 36   \n",
       "\n",
       "   FairlyActiveMinutes  LightlyActiveMinutes  SedentaryMinutes  Calories  \n",
       "0                   13                   328               728      1985  \n",
       "1                   19                   217               776      1797  \n",
       "2                   11                   181              1218      1776  \n",
       "3                   34                   209               726      1745  \n",
       "4                   10                   221               773      1863  "
      ]
     },
     "execution_count": 28,
     "metadata": {},
     "output_type": "execute_result"
    },
    {
     "data": {
      "text/html": [
       "<div>\n",
       "<style scoped>\n",
       "    .dataframe tbody tr th:only-of-type {\n",
       "        vertical-align: middle;\n",
       "    }\n",
       "\n",
       "    .dataframe tbody tr th {\n",
       "        vertical-align: top;\n",
       "    }\n",
       "\n",
       "    .dataframe thead th {\n",
       "        text-align: right;\n",
       "    }\n",
       "</style>\n",
       "<table border=\"1\" class=\"dataframe\">\n",
       "  <thead>\n",
       "    <tr style=\"text-align: right;\">\n",
       "      <th></th>\n",
       "      <th>Id</th>\n",
       "      <th>SleepDay</th>\n",
       "      <th>TotalSleepRecords</th>\n",
       "      <th>TotalMinutesAsleep</th>\n",
       "      <th>TotalTimeInBed</th>\n",
       "    </tr>\n",
       "  </thead>\n",
       "  <tbody>\n",
       "    <tr>\n",
       "      <th>0</th>\n",
       "      <td>1503960366</td>\n",
       "      <td>2016-04-12</td>\n",
       "      <td>1</td>\n",
       "      <td>327</td>\n",
       "      <td>346</td>\n",
       "    </tr>\n",
       "    <tr>\n",
       "      <th>1</th>\n",
       "      <td>1503960366</td>\n",
       "      <td>2016-04-13</td>\n",
       "      <td>2</td>\n",
       "      <td>384</td>\n",
       "      <td>407</td>\n",
       "    </tr>\n",
       "    <tr>\n",
       "      <th>2</th>\n",
       "      <td>1503960366</td>\n",
       "      <td>2016-04-15</td>\n",
       "      <td>1</td>\n",
       "      <td>412</td>\n",
       "      <td>442</td>\n",
       "    </tr>\n",
       "    <tr>\n",
       "      <th>3</th>\n",
       "      <td>1503960366</td>\n",
       "      <td>2016-04-16</td>\n",
       "      <td>2</td>\n",
       "      <td>340</td>\n",
       "      <td>367</td>\n",
       "    </tr>\n",
       "    <tr>\n",
       "      <th>4</th>\n",
       "      <td>1503960366</td>\n",
       "      <td>2016-04-17</td>\n",
       "      <td>1</td>\n",
       "      <td>700</td>\n",
       "      <td>712</td>\n",
       "    </tr>\n",
       "  </tbody>\n",
       "</table>\n",
       "</div>"
      ],
      "text/plain": [
       "           Id   SleepDay  TotalSleepRecords  TotalMinutesAsleep  \\\n",
       "0  1503960366 2016-04-12                  1                 327   \n",
       "1  1503960366 2016-04-13                  2                 384   \n",
       "2  1503960366 2016-04-15                  1                 412   \n",
       "3  1503960366 2016-04-16                  2                 340   \n",
       "4  1503960366 2016-04-17                  1                 700   \n",
       "\n",
       "   TotalTimeInBed  \n",
       "0             346  \n",
       "1             407  \n",
       "2             442  \n",
       "3             367  \n",
       "4             712  "
      ]
     },
     "execution_count": 28,
     "metadata": {},
     "output_type": "execute_result"
    },
    {
     "data": {
      "text/html": [
       "<div>\n",
       "<style scoped>\n",
       "    .dataframe tbody tr th:only-of-type {\n",
       "        vertical-align: middle;\n",
       "    }\n",
       "\n",
       "    .dataframe tbody tr th {\n",
       "        vertical-align: top;\n",
       "    }\n",
       "\n",
       "    .dataframe thead th {\n",
       "        text-align: right;\n",
       "    }\n",
       "</style>\n",
       "<table border=\"1\" class=\"dataframe\">\n",
       "  <thead>\n",
       "    <tr style=\"text-align: right;\">\n",
       "      <th></th>\n",
       "      <th>Id</th>\n",
       "      <th>ActivityHour</th>\n",
       "      <th>TotalIntensity</th>\n",
       "      <th>AverageIntensity</th>\n",
       "    </tr>\n",
       "  </thead>\n",
       "  <tbody>\n",
       "    <tr>\n",
       "      <th>0</th>\n",
       "      <td>1503960366</td>\n",
       "      <td>2016-04-12 00:00:00</td>\n",
       "      <td>20</td>\n",
       "      <td>0.333333</td>\n",
       "    </tr>\n",
       "    <tr>\n",
       "      <th>1</th>\n",
       "      <td>1503960366</td>\n",
       "      <td>2016-04-12 01:00:00</td>\n",
       "      <td>8</td>\n",
       "      <td>0.133333</td>\n",
       "    </tr>\n",
       "    <tr>\n",
       "      <th>2</th>\n",
       "      <td>1503960366</td>\n",
       "      <td>2016-04-12 02:00:00</td>\n",
       "      <td>7</td>\n",
       "      <td>0.116667</td>\n",
       "    </tr>\n",
       "    <tr>\n",
       "      <th>3</th>\n",
       "      <td>1503960366</td>\n",
       "      <td>2016-04-12 03:00:00</td>\n",
       "      <td>0</td>\n",
       "      <td>0.000000</td>\n",
       "    </tr>\n",
       "    <tr>\n",
       "      <th>4</th>\n",
       "      <td>1503960366</td>\n",
       "      <td>2016-04-12 04:00:00</td>\n",
       "      <td>0</td>\n",
       "      <td>0.000000</td>\n",
       "    </tr>\n",
       "  </tbody>\n",
       "</table>\n",
       "</div>"
      ],
      "text/plain": [
       "           Id        ActivityHour  TotalIntensity  AverageIntensity\n",
       "0  1503960366 2016-04-12 00:00:00              20          0.333333\n",
       "1  1503960366 2016-04-12 01:00:00               8          0.133333\n",
       "2  1503960366 2016-04-12 02:00:00               7          0.116667\n",
       "3  1503960366 2016-04-12 03:00:00               0          0.000000\n",
       "4  1503960366 2016-04-12 04:00:00               0          0.000000"
      ]
     },
     "execution_count": 28,
     "metadata": {},
     "output_type": "execute_result"
    }
   ],
   "source": [
    "# Convert the dates and times\n",
    "activity['ActivityDate'] = pd.to_datetime(activity['ActivityDate'])\n",
    "sleep['SleepDay'] = pd.to_datetime(sleep['SleepDay'])\n",
    "intensity['ActivityHour'] = pd.to_datetime(intensity['ActivityHour'], format = '%m/%d/%Y %I:%M:%S %p')\n",
    "\n",
    "# Check that the conversions were done correctly\n",
    "activity.head()\n",
    "sleep.head()\n",
    "intensity.head()"
   ]
  },
  {
   "cell_type": "markdown",
   "id": "2c8aa677",
   "metadata": {},
   "source": [
    "# Analysis"
   ]
  },
  {
   "cell_type": "markdown",
   "id": "31fcc46c",
   "metadata": {},
   "source": [
    "First, let's see the statistics of select columns of the dataframes."
   ]
  },
  {
   "cell_type": "code",
   "execution_count": 29,
   "id": "c4b3c8e1",
   "metadata": {},
   "outputs": [
    {
     "data": {
      "text/html": [
       "<div>\n",
       "<style scoped>\n",
       "    .dataframe tbody tr th:only-of-type {\n",
       "        vertical-align: middle;\n",
       "    }\n",
       "\n",
       "    .dataframe tbody tr th {\n",
       "        vertical-align: top;\n",
       "    }\n",
       "\n",
       "    .dataframe thead th {\n",
       "        text-align: right;\n",
       "    }\n",
       "</style>\n",
       "<table border=\"1\" class=\"dataframe\">\n",
       "  <thead>\n",
       "    <tr style=\"text-align: right;\">\n",
       "      <th></th>\n",
       "      <th>TotalSteps</th>\n",
       "      <th>VeryActiveMinutes</th>\n",
       "      <th>FairlyActiveMinutes</th>\n",
       "      <th>LightlyActiveMinutes</th>\n",
       "      <th>SedentaryMinutes</th>\n",
       "      <th>Calories</th>\n",
       "    </tr>\n",
       "  </thead>\n",
       "  <tbody>\n",
       "    <tr>\n",
       "      <th>count</th>\n",
       "      <td>940.000000</td>\n",
       "      <td>940.000000</td>\n",
       "      <td>940.000000</td>\n",
       "      <td>940.000000</td>\n",
       "      <td>940.000000</td>\n",
       "      <td>940.000000</td>\n",
       "    </tr>\n",
       "    <tr>\n",
       "      <th>mean</th>\n",
       "      <td>7637.910638</td>\n",
       "      <td>21.164894</td>\n",
       "      <td>13.564894</td>\n",
       "      <td>192.812766</td>\n",
       "      <td>991.210638</td>\n",
       "      <td>2303.609574</td>\n",
       "    </tr>\n",
       "    <tr>\n",
       "      <th>std</th>\n",
       "      <td>5087.150742</td>\n",
       "      <td>32.844803</td>\n",
       "      <td>19.987404</td>\n",
       "      <td>109.174700</td>\n",
       "      <td>301.267437</td>\n",
       "      <td>718.166862</td>\n",
       "    </tr>\n",
       "    <tr>\n",
       "      <th>min</th>\n",
       "      <td>0.000000</td>\n",
       "      <td>0.000000</td>\n",
       "      <td>0.000000</td>\n",
       "      <td>0.000000</td>\n",
       "      <td>0.000000</td>\n",
       "      <td>0.000000</td>\n",
       "    </tr>\n",
       "    <tr>\n",
       "      <th>25%</th>\n",
       "      <td>3789.750000</td>\n",
       "      <td>0.000000</td>\n",
       "      <td>0.000000</td>\n",
       "      <td>127.000000</td>\n",
       "      <td>729.750000</td>\n",
       "      <td>1828.500000</td>\n",
       "    </tr>\n",
       "    <tr>\n",
       "      <th>50%</th>\n",
       "      <td>7405.500000</td>\n",
       "      <td>4.000000</td>\n",
       "      <td>6.000000</td>\n",
       "      <td>199.000000</td>\n",
       "      <td>1057.500000</td>\n",
       "      <td>2134.000000</td>\n",
       "    </tr>\n",
       "    <tr>\n",
       "      <th>75%</th>\n",
       "      <td>10727.000000</td>\n",
       "      <td>32.000000</td>\n",
       "      <td>19.000000</td>\n",
       "      <td>264.000000</td>\n",
       "      <td>1229.500000</td>\n",
       "      <td>2793.250000</td>\n",
       "    </tr>\n",
       "    <tr>\n",
       "      <th>max</th>\n",
       "      <td>36019.000000</td>\n",
       "      <td>210.000000</td>\n",
       "      <td>143.000000</td>\n",
       "      <td>518.000000</td>\n",
       "      <td>1440.000000</td>\n",
       "      <td>4900.000000</td>\n",
       "    </tr>\n",
       "  </tbody>\n",
       "</table>\n",
       "</div>"
      ],
      "text/plain": [
       "         TotalSteps  VeryActiveMinutes  FairlyActiveMinutes  \\\n",
       "count    940.000000         940.000000           940.000000   \n",
       "mean    7637.910638          21.164894            13.564894   \n",
       "std     5087.150742          32.844803            19.987404   \n",
       "min        0.000000           0.000000             0.000000   \n",
       "25%     3789.750000           0.000000             0.000000   \n",
       "50%     7405.500000           4.000000             6.000000   \n",
       "75%    10727.000000          32.000000            19.000000   \n",
       "max    36019.000000         210.000000           143.000000   \n",
       "\n",
       "       LightlyActiveMinutes  SedentaryMinutes     Calories  \n",
       "count            940.000000        940.000000   940.000000  \n",
       "mean             192.812766        991.210638  2303.609574  \n",
       "std              109.174700        301.267437   718.166862  \n",
       "min                0.000000          0.000000     0.000000  \n",
       "25%              127.000000        729.750000  1828.500000  \n",
       "50%              199.000000       1057.500000  2134.000000  \n",
       "75%              264.000000       1229.500000  2793.250000  \n",
       "max              518.000000       1440.000000  4900.000000  "
      ]
     },
     "execution_count": 29,
     "metadata": {},
     "output_type": "execute_result"
    },
    {
     "data": {
      "text/plain": [
       "count    410.000000\n",
       "mean     419.173171\n",
       "std      118.635918\n",
       "min       58.000000\n",
       "25%      361.000000\n",
       "50%      432.500000\n",
       "75%      490.000000\n",
       "max      796.000000\n",
       "Name: TotalMinutesAsleep, dtype: float64"
      ]
     },
     "execution_count": 29,
     "metadata": {},
     "output_type": "execute_result"
    },
    {
     "data": {
      "text/html": [
       "<div>\n",
       "<style scoped>\n",
       "    .dataframe tbody tr th:only-of-type {\n",
       "        vertical-align: middle;\n",
       "    }\n",
       "\n",
       "    .dataframe tbody tr th {\n",
       "        vertical-align: top;\n",
       "    }\n",
       "\n",
       "    .dataframe thead th {\n",
       "        text-align: right;\n",
       "    }\n",
       "</style>\n",
       "<table border=\"1\" class=\"dataframe\">\n",
       "  <thead>\n",
       "    <tr style=\"text-align: right;\">\n",
       "      <th></th>\n",
       "      <th>TotalIntensity</th>\n",
       "      <th>AverageIntensity</th>\n",
       "    </tr>\n",
       "  </thead>\n",
       "  <tbody>\n",
       "    <tr>\n",
       "      <th>count</th>\n",
       "      <td>22099.000000</td>\n",
       "      <td>22099.000000</td>\n",
       "    </tr>\n",
       "    <tr>\n",
       "      <th>mean</th>\n",
       "      <td>12.035341</td>\n",
       "      <td>0.200589</td>\n",
       "    </tr>\n",
       "    <tr>\n",
       "      <th>std</th>\n",
       "      <td>21.133110</td>\n",
       "      <td>0.352219</td>\n",
       "    </tr>\n",
       "    <tr>\n",
       "      <th>min</th>\n",
       "      <td>0.000000</td>\n",
       "      <td>0.000000</td>\n",
       "    </tr>\n",
       "    <tr>\n",
       "      <th>25%</th>\n",
       "      <td>0.000000</td>\n",
       "      <td>0.000000</td>\n",
       "    </tr>\n",
       "    <tr>\n",
       "      <th>50%</th>\n",
       "      <td>3.000000</td>\n",
       "      <td>0.050000</td>\n",
       "    </tr>\n",
       "    <tr>\n",
       "      <th>75%</th>\n",
       "      <td>16.000000</td>\n",
       "      <td>0.266667</td>\n",
       "    </tr>\n",
       "    <tr>\n",
       "      <th>max</th>\n",
       "      <td>180.000000</td>\n",
       "      <td>3.000000</td>\n",
       "    </tr>\n",
       "  </tbody>\n",
       "</table>\n",
       "</div>"
      ],
      "text/plain": [
       "       TotalIntensity  AverageIntensity\n",
       "count    22099.000000      22099.000000\n",
       "mean        12.035341          0.200589\n",
       "std         21.133110          0.352219\n",
       "min          0.000000          0.000000\n",
       "25%          0.000000          0.000000\n",
       "50%          3.000000          0.050000\n",
       "75%         16.000000          0.266667\n",
       "max        180.000000          3.000000"
      ]
     },
     "execution_count": 29,
     "metadata": {},
     "output_type": "execute_result"
    }
   ],
   "source": [
    "activity[['TotalSteps', 'VeryActiveMinutes', 'FairlyActiveMinutes', 'LightlyActiveMinutes', 'SedentaryMinutes', 'Calories']].describe()\n",
    "sleep['TotalMinutesAsleep'].describe()\n",
    "intensity[['TotalIntensity', 'AverageIntensity']].describe()"
   ]
  },
  {
   "cell_type": "markdown",
   "id": "80c43f08",
   "metadata": {},
   "source": [
    "The average steps taken per day is about 7638, which is a few hundred below the CDC-recommended minimum 8000 steps.\n",
    "\n",
    "One thing that jumps out is the sleep time from the sleep dataset. According to the CDC, the recommended amount of sleep for adults is 7 to 9 hours, or 420 to 540 minutes. The mean sleep time is about 419 minutes, and the 50th percentile on the lower side at only 432.5 minutes. Let's check how many of the participants truly are undersleepers, or if there are outliers influencing the data."
   ]
  },
  {
   "cell_type": "code",
   "execution_count": 30,
   "id": "8125ad42",
   "metadata": {},
   "outputs": [
    {
     "data": {
      "text/plain": [
       "<Figure size 864x576 with 0 Axes>"
      ]
     },
     "execution_count": 30,
     "metadata": {},
     "output_type": "execute_result"
    },
    {
     "data": {
      "text/plain": [
       "<AxesSubplot:title={'center':'Total Minutes Asleep'}, xlabel='Id'>"
      ]
     },
     "execution_count": 30,
     "metadata": {},
     "output_type": "execute_result"
    },
    {
     "data": {
      "image/png": "[encoded data removed]",
      "text/plain": [
       "<Figure size 864x576 with 1 Axes>"
      ]
     },
     "metadata": {
      "needs_background": "light"
     },
     "output_type": "display_data"
    }
   ],
   "source": [
    "sleeptime = sleep.groupby('Id')['TotalMinutesAsleep'].mean()\n",
    "plt.figure(figsize = (12, 8))\n",
    "sleeptime.plot.bar(x = 'Id', y = 'TotalMinutesAsleep', color = '#2896CC', legend = False, title = 'Total Minutes Asleep')"
   ]
  },
  {
   "cell_type": "markdown",
   "id": "95efc12d",
   "metadata": {},
   "source": [
    "As can be seen from the visualization, there are three participants with very low average sleep times, which indicates that they most likely did not record sleep time data for several nights, resulting in entries with \"zero\" sleep.\n",
    "\n",
    "Let's confirm the most common sleep times."
   ]
  },
  {
   "cell_type": "code",
   "execution_count": 31,
   "id": "fe50a74b",
   "metadata": {},
   "outputs": [
    {
     "data": {
      "text/plain": [
       "[Text(0.5, 1.0, 'Proportion of Sleep Times'), Text(0, 0.5, 'Count')]"
      ]
     },
     "execution_count": 31,
     "metadata": {},
     "output_type": "execute_result"
    },
    {
     "data": {
      "text/plain": [
       "(array([0, 1, 2, 3]),\n",
       " [Text(0, 0, 'Extreme Undersleeper'),\n",
       "  Text(1, 0, 'Undersleeper'),\n",
       "  Text(2, 0, 'Healthy Sleeper'),\n",
       "  Text(3, 0, 'Oversleeper')])"
      ]
     },
     "execution_count": 31,
     "metadata": {},
     "output_type": "execute_result"
    },
    {
     "data": {
      "image/png": "[encoded data removed]",
      "text/plain": [
       "<Figure size 432x288 with 1 Axes>"
      ]
     },
     "metadata": {
      "needs_background": "light"
     },
     "output_type": "display_data"
    }
   ],
   "source": [
    "sleep_level = [0, 0, 0, 0]\n",
    "for i in range(0, len(sleep['TotalMinutesAsleep'])):\n",
    "    sleep_time = sleep['TotalMinutesAsleep'].iloc[i]\n",
    "    if sleep_time >= 420 and sleep_time <= 540:\n",
    "        sleep_level[2] += 1\n",
    "    elif sleep_time > 540:\n",
    "        sleep_level[3] += 1\n",
    "    elif sleep_time > 300:\n",
    "        sleep_level[1] += 1\n",
    "    else:\n",
    "        sleep_level[0] += 1\n",
    "\n",
    "sns.barplot(x = [\"Extreme Undersleeper\", \"Undersleeper\", \"Healthy Sleeper\", \"Oversleeper\"], y = [sleep_level[0], sleep_level[1], sleep_level[2], sleep_level[3]]).set(title = \"Proportion of Sleep Times\", ylabel = \"Count\")\n",
    "plt.xticks(rotation = 30, ha = 'right')"
   ]
  },
  {
   "cell_type": "markdown",
   "id": "0fa22a82",
   "metadata": {},
   "source": [
    "So it appears that participants primarily get between 5 to 9 hours of sleep, which is not too unhealthy.\n",
    "\n",
    "Now let's see the breakdown of activity time by participant."
   ]
  },
  {
   "cell_type": "code",
   "execution_count": 32,
   "id": "25a85f6b",
   "metadata": {},
   "outputs": [
    {
     "data": {
      "text/plain": [
       "<matplotlib.legend.Legend at 0x127df2d1f60>"
      ]
     },
     "execution_count": 32,
     "metadata": {},
     "output_type": "execute_result"
    },
    {
     "data": {
      "image/png": "[encoded data removed]",
      "text/plain": [
       "<Figure size 1080x720 with 1 Axes>"
      ]
     },
     "metadata": {
      "needs_background": "light"
     },
     "output_type": "display_data"
    }
   ],
   "source": [
    "participant_activity = activity.groupby('Id')[['SedentaryMinutes', 'LightlyActiveMinutes', 'FairlyActiveMinutes', 'VeryActiveMinutes']].mean()\n",
    "participant_activity.reset_index(inplace = True)\n",
    "\n",
    "participant_activity.plot(x = 'Id', kind = 'bar', title = 'Activity Time by Participant', figsize = (15, 10), stacked = True).legend(labels = ['Sedentary Minutes', 'Lightly Active Minutes', 'Fairly Active Minutes', 'Very Active Minutes'], loc='center left', bbox_to_anchor=(1.0, 0.5))"
   ]
  },
  {
   "cell_type": "markdown",
   "id": "cbc027d1",
   "metadata": {},
   "source": [
    "It appears that participants spend the vast majority of their time sedentary, and that the next most common time use was being lightly active.\n",
    "\n",
    "Let's see if there's a correlation between exercise intensity and length of sleep time."
   ]
  },
  {
   "cell_type": "code",
   "execution_count": 33,
   "id": "171065e8",
   "metadata": {},
   "outputs": [
    {
     "data": {
      "text/plain": [
       "<AxesSubplot:xlabel='Id'>"
      ]
     },
     "execution_count": 33,
     "metadata": {},
     "output_type": "execute_result"
    },
    {
     "data": {
      "text/plain": [
       "<AxesSubplot:xlabel='Id'>"
      ]
     },
     "execution_count": 33,
     "metadata": {},
     "output_type": "execute_result"
    },
    {
     "data": {
      "text/plain": [
       "Text(0.5, 1.0, 'Sleep by Intensity Compared with Total Intensity')"
      ]
     },
     "execution_count": 33,
     "metadata": {},
     "output_type": "execute_result"
    },
    {
     "data": {
      "image/png": "[encoded data removed]",
      "text/plain": [
       "<Figure size 1080x720 with 1 Axes>"
      ]
     },
     "metadata": {
      "needs_background": "light"
     },
     "output_type": "display_data"
    }
   ],
   "source": [
    "user_intensity_sleep = intensity.groupby('Id')[['TotalIntensity', 'AverageIntensity']].mean()\n",
    "user_intensity_sleep['TotalMinutesAsleep'] = sleep.groupby('Id')['TotalMinutesAsleep'].mean()\n",
    "user_intensity_sleep['SleepByIntensity'] = user_intensity_sleep['TotalMinutesAsleep'] / user_intensity_sleep['TotalIntensity']\n",
    "user_intensity_sleep.dropna(axis = 'index', inplace = True)\n",
    "user_intensity_sleep.reset_index(inplace = True)\n",
    "\n",
    "fig, ax = plt.subplots(figsize = (15, 10))\n",
    "user_intensity_sleep.plot.bar(x = 'Id', y = 'SleepByIntensity', position = 1, width = 0.4, label = 'Sleep by Intensity', color = '#9C36C0', ax = ax)\n",
    "user_intensity_sleep.plot.bar(x = 'Id', y = 'TotalIntensity', position = 0, width = 0.4, label = 'Total Intensity', color = '#EE4520', ax = ax)\n",
    "plt.title('Sleep by Intensity Compared with Total Intensity')"
   ]
  },
  {
   "cell_type": "markdown",
   "id": "f3b509a3",
   "metadata": {},
   "source": [
    "It appears that the lower the total intensity of the exercise done, the longer the participant slept. This may be caused by the fact that sedentary people will sleep more, while those who like to get active and move about will want to spend less time sleeping.\n",
    "\n",
    "As noted before, the average steps taken daily by the participants is a little below the recommended minimum for health benefits. Let's see if there is a correlation between steps taken and calories burned, which would reveal benefits for weight management."
   ]
  },
  {
   "cell_type": "code",
   "execution_count": 34,
   "id": "4727834e",
   "metadata": {},
   "outputs": [
    {
     "data": {
      "text/plain": [
       "<Figure size 1080x720 with 0 Axes>"
      ]
     },
     "execution_count": 34,
     "metadata": {},
     "output_type": "execute_result"
    },
    {
     "data": {
      "text/plain": [
       "[Text(0.5, 1.0, 'Calories Burned vs Total Steps'),\n",
       " Text(0.5, 0, 'Total Steps'),\n",
       " Text(0, 0.5, 'Calories')]"
      ]
     },
     "execution_count": 34,
     "metadata": {},
     "output_type": "execute_result"
    },
    {
     "data": {
      "image/png": "[encoded data removed]",
      "text/plain": [
       "<Figure size 1080x720 with 1 Axes>"
      ]
     },
     "metadata": {
      "needs_background": "light"
     },
     "output_type": "display_data"
    }
   ],
   "source": [
    "plt.figure(figsize = (15, 10))\n",
    "sns.regplot(x = activity['TotalSteps'], y = activity['Calories'], scatter_kws = {'alpha' : 0.5}, line_kws = {'color' : '#EE4520'}).set(title = \"Calories Burned vs Total Steps\", xlabel = \"Total Steps\", ylabel = \"Calories\")"
   ]
  },
  {
   "cell_type": "markdown",
   "id": "00f29bf5",
   "metadata": {},
   "source": [
    "So there is a positive correlation between the total daily steps taken and the number of calories burned, which provides definite proof that getting a certain number of daily steps can have health benefits."
   ]
  },
  {
   "cell_type": "markdown",
   "id": "a30adf42",
   "metadata": {},
   "source": [
    "# Conclusion"
   ]
  },
  {
   "cell_type": "markdown",
   "id": "13ebecca",
   "metadata": {},
   "source": [
    "From the data summaries and visualizations, there are a few insights that can be used to guide Bellabeat's marketing strategy.\n",
    "\n",
    "Consumers tend to not get the recommended minimum number of daily steps, so the health app could be modified to track steps taken, and remind users to hit their daily goal. This goes in hand with the fact that consumers are primarily sedentary, so the app should encourage them to exercise when they can.\n",
    "\n",
    "Likewise, some participants do not get the optimal amount of sleep, so the app can let users define a bedtime and wakeup time goal, and then remind them about and help them wind down to go to bed at the right time.\n",
    "\n",
    "Finally, it was found that the number of calories burned was proportional to the number of daily steps taken. Thus, the app could help users manage their weight by logging their activity and predicting how many calories they have burned.\n",
    "\n",
    "All of these takeaways would help consumers become healthier and would establish Bellabeat as a driver for improving one's quality of life. Therefore, the marketing strategy should focus around these important insights and emphasize how consumers can reach these goals through using Bellabeat's products."
   ]
  }
 ],
 "metadata": {
  "kernelspec": {
   "display_name": "Python 3",
   "language": "python",
   "name": "python3"
  },
  "language_info": {
   "codemirror_mode": {
    "name": "ipython",
    "version": 3
   },
   "file_extension": ".py",
   "mimetype": "text/x-python",
   "name": "python",
   "nbconvert_exporter": "python",
   "pygments_lexer": "ipython3",
   "version": "3.6.13"
  }
 },
 "nbformat": 4,
 "nbformat_minor": 5
}

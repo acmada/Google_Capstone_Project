{
 "cells": [
  {
   "cell_type": "code",
   "execution_count": null,
   "id": "15ee0450",
   "metadata": {},
   "outputs": [],
   "source": []
  },
  {
   "cell_type": "markdown",
   "id": "809b8c85",
   "metadata": {},
   "source": [
    "Bellabeat is a high-tech manufacturer of health-focused products for women.\n",
    "\n",
    "How are consumers using their smart devices, and how should this guide Bellabeat's marketing strategy?\n",
    "\n",
    "The dataset provided is a Fitbit dataset generated via an Amazon Mechanical Turk survey between March 12, 2016 and May 12, 2016. The actual given data is from April 12, 2016 to May 9, 2016.\n",
    "\n",
    "Some caveats of the dataset provided are that the participants' demographics are not recorded, so we cannot know if they are all women, the target consumer group, or whether they are representative of all ethnicities. Furthermore, the sample group is small and the survey time is short, so the data may not be indicative of year-round habits, and it was collected six years ago, so it may not reflect current consumers' usage habits.\n",
    "\n",
    "First, let's decide what data we will need. The daily and hourly datasets should be enough to get a feel for the consumers' usage habits."
   ]
  },
  {
   "cell_type": "code",
   "execution_count": 71,
   "id": "9eb51d39",
   "metadata": {},
   "outputs": [],
   "source": [
    "import pandas as pd\n",
    "import seaborn as sns\n",
    "\n",
    "activity = pd.read_csv('Fitabase Data 4.12.16-5.12.16\\dailyActivity_merged.csv')\n",
    "sleep = pd.read_csv('Fitabase Data 4.12.16-5.12.16\\sleepDay_merged.csv')\n",
    "steps = pd.read_csv('Fitabase Data 4.12.16-5.12.16\\hourlySteps_merged.csv')\n",
    "intensities = pd.read_csv('Fitabase Data 4.12.16-5.12.16\\hourlyIntensities_merged.csv')"
   ]
  },
  {
   "cell_type": "markdown",
   "id": "271df2ce",
   "metadata": {},
   "source": [
    "Now that the desired datasets are inported and converted to pandas dataframes, let's take a look at the information they contain."
   ]
  },
  {
   "cell_type": "code",
   "execution_count": 72,
   "id": "4bd3a47e",
   "metadata": {},
   "outputs": [
    {
     "name": "stdout",
     "output_type": "stream",
     "text": [
      "<class 'pandas.core.frame.DataFrame'>\n",
      "RangeIndex: 940 entries, 0 to 939\n",
      "Data columns (total 15 columns):\n",
      " #   Column                    Non-Null Count  Dtype  \n",
      "---  ------                    --------------  -----  \n",
      " 0   Id                        940 non-null    int64  \n",
      " 1   ActivityDate              940 non-null    object \n",
      " 2   TotalSteps                940 non-null    int64  \n",
      " 3   TotalDistance             940 non-null    float64\n",
      " 4   TrackerDistance           940 non-null    float64\n",
      " 5   LoggedActivitiesDistance  940 non-null    float64\n",
      " 6   VeryActiveDistance        940 non-null    float64\n",
      " 7   ModeratelyActiveDistance  940 non-null    float64\n",
      " 8   LightActiveDistance       940 non-null    float64\n",
      " 9   SedentaryActiveDistance   940 non-null    float64\n",
      " 10  VeryActiveMinutes         940 non-null    int64  \n",
      " 11  FairlyActiveMinutes       940 non-null    int64  \n",
      " 12  LightlyActiveMinutes      940 non-null    int64  \n",
      " 13  SedentaryMinutes          940 non-null    int64  \n",
      " 14  Calories                  940 non-null    int64  \n",
      "dtypes: float64(7), int64(7), object(1)\n",
      "memory usage: 110.3+ KB\n"
     ]
    }
   ],
   "source": [
    "activity.info()"
   ]
  },
  {
   "cell_type": "markdown",
   "id": "731aaa8e",
   "metadata": {},
   "source": [
    "It appears that the ActivityDate column is not in the correct format. Further investigation reveals that all the datasets suffer from the same problem, so let's convert their dates into the correct datetime format."
   ]
  },
  {
   "cell_type": "code",
   "execution_count": 73,
   "id": "686f9f23",
   "metadata": {},
   "outputs": [
    {
     "data": {
      "text/plain": [
       "0   2016-04-12\n",
       "1   2016-04-13\n",
       "2   2016-04-14\n",
       "3   2016-04-15\n",
       "4   2016-04-16\n",
       "Name: ActivityDate, dtype: datetime64[ns]"
      ]
     },
     "execution_count": 73,
     "metadata": {},
     "output_type": "execute_result"
    }
   ],
   "source": [
    "activity['ActivityDate'] = pd.to_datetime(activity['ActivityDate'])\n",
    "activity['ActivityDate'].head()"
   ]
  },
  {
   "cell_type": "code",
   "execution_count": 74,
   "id": "ab8e4c10",
   "metadata": {},
   "outputs": [
    {
     "name": "stdout",
     "output_type": "stream",
     "text": [
      "<class 'pandas.core.frame.DataFrame'>\n",
      "RangeIndex: 22099 entries, 0 to 22098\n",
      "Data columns (total 3 columns):\n",
      " #   Column        Non-Null Count  Dtype \n",
      "---  ------        --------------  ----- \n",
      " 0   Id            22099 non-null  int64 \n",
      " 1   ActivityHour  22099 non-null  object\n",
      " 2   StepTotal     22099 non-null  int64 \n",
      "dtypes: int64(2), object(1)\n",
      "memory usage: 518.1+ KB\n"
     ]
    }
   ],
   "source": [
    "steps.info()"
   ]
  },
  {
   "cell_type": "code",
   "execution_count": 75,
   "id": "64d7cc2b",
   "metadata": {},
   "outputs": [
    {
     "data": {
      "text/plain": [
       "22094   2016-05-12 10:00:00\n",
       "22095   2016-05-12 11:00:00\n",
       "22096   2016-05-12 12:00:00\n",
       "22097   2016-05-12 13:00:00\n",
       "22098   2016-05-12 14:00:00\n",
       "Name: ActivityHour, dtype: datetime64[ns]"
      ]
     },
     "execution_count": 75,
     "metadata": {},
     "output_type": "execute_result"
    }
   ],
   "source": [
    "steps['ActivityHour'] = pd.to_datetime(steps['ActivityHour'], format = '%m/%d/%Y %I:%M:%S %p')\n",
    "steps['ActivityHour'].tail()"
   ]
  },
  {
   "cell_type": "code",
   "execution_count": 76,
   "id": "cfe8e5f1",
   "metadata": {},
   "outputs": [
    {
     "name": "stdout",
     "output_type": "stream",
     "text": [
      "<class 'pandas.core.frame.DataFrame'>\n",
      "RangeIndex: 22099 entries, 0 to 22098\n",
      "Data columns (total 4 columns):\n",
      " #   Column            Non-Null Count  Dtype  \n",
      "---  ------            --------------  -----  \n",
      " 0   Id                22099 non-null  int64  \n",
      " 1   ActivityHour      22099 non-null  object \n",
      " 2   TotalIntensity    22099 non-null  int64  \n",
      " 3   AverageIntensity  22099 non-null  float64\n",
      "dtypes: float64(1), int64(2), object(1)\n",
      "memory usage: 690.7+ KB\n"
     ]
    }
   ],
   "source": [
    "intensities.info()"
   ]
  },
  {
   "cell_type": "code",
   "execution_count": 77,
   "id": "4c955046",
   "metadata": {},
   "outputs": [
    {
     "data": {
      "text/plain": [
       "22094   2016-05-12 10:00:00\n",
       "22095   2016-05-12 11:00:00\n",
       "22096   2016-05-12 12:00:00\n",
       "22097   2016-05-12 13:00:00\n",
       "22098   2016-05-12 14:00:00\n",
       "Name: ActivityHour, dtype: datetime64[ns]"
      ]
     },
     "execution_count": 77,
     "metadata": {},
     "output_type": "execute_result"
    }
   ],
   "source": [
    "intensities['ActivityHour'] = pd.to_datetime(intensities['ActivityHour'], format = '%m/%d/%Y %I:%M:%S %p')\n",
    "intensities['ActivityHour'].tail()"
   ]
  },
  {
   "cell_type": "code",
   "execution_count": 78,
   "id": "1ed3763f",
   "metadata": {},
   "outputs": [
    {
     "name": "stdout",
     "output_type": "stream",
     "text": [
      "<class 'pandas.core.frame.DataFrame'>\n",
      "RangeIndex: 413 entries, 0 to 412\n",
      "Data columns (total 5 columns):\n",
      " #   Column              Non-Null Count  Dtype \n",
      "---  ------              --------------  ----- \n",
      " 0   Id                  413 non-null    int64 \n",
      " 1   SleepDay            413 non-null    object\n",
      " 2   TotalSleepRecords   413 non-null    int64 \n",
      " 3   TotalMinutesAsleep  413 non-null    int64 \n",
      " 4   TotalTimeInBed      413 non-null    int64 \n",
      "dtypes: int64(4), object(1)\n",
      "memory usage: 16.3+ KB\n"
     ]
    }
   ],
   "source": [
    "sleep.info()"
   ]
  },
  {
   "cell_type": "markdown",
   "id": "15272e83",
   "metadata": {},
   "source": [
    "This dataset gives the time as well as the date. However, it appears all the times recorded are 12:00:00 AM, so they are most likely filler values and can be ignored."
   ]
  },
  {
   "cell_type": "code",
   "execution_count": 79,
   "id": "57a498da",
   "metadata": {},
   "outputs": [
    {
     "data": {
      "text/plain": [
       "0   2016-04-12\n",
       "1   2016-04-13\n",
       "2   2016-04-15\n",
       "3   2016-04-16\n",
       "4   2016-04-17\n",
       "Name: SleepDay, dtype: datetime64[ns]"
      ]
     },
     "execution_count": 79,
     "metadata": {},
     "output_type": "execute_result"
    }
   ],
   "source": [
    "sleep['SleepDay'] = pd.to_datetime(sleep['SleepDay'])\n",
    "sleep['SleepDay'].head()"
   ]
  },
  {
   "cell_type": "markdown",
   "id": "c91fbbd5",
   "metadata": {},
   "source": [
    "Next, let's check the IDs of the participants. It appears all 33 unique IDs (participants) are the same in the activity, calories, and intensities datasets, but the sleep dataset only has 24 of these."
   ]
  },
  {
   "cell_type": "code",
   "execution_count": 80,
   "id": "da5d8932",
   "metadata": {},
   "outputs": [
    {
     "data": {
      "text/plain": [
       "33"
      ]
     },
     "execution_count": 80,
     "metadata": {},
     "output_type": "execute_result"
    }
   ],
   "source": [
    "activity['Id'].nunique()"
   ]
  },
  {
   "cell_type": "code",
   "execution_count": 81,
   "id": "89286faf",
   "metadata": {},
   "outputs": [
    {
     "data": {
      "text/plain": [
       "33"
      ]
     },
     "execution_count": 81,
     "metadata": {},
     "output_type": "execute_result"
    }
   ],
   "source": [
    "intensities['Id'].nunique()"
   ]
  },
  {
   "cell_type": "code",
   "execution_count": 82,
   "id": "e7531575",
   "metadata": {},
   "outputs": [
    {
     "data": {
      "text/plain": [
       "33"
      ]
     },
     "execution_count": 82,
     "metadata": {},
     "output_type": "execute_result"
    }
   ],
   "source": [
    "steps['Id'].nunique()"
   ]
  },
  {
   "cell_type": "code",
   "execution_count": 83,
   "id": "60eef6b4",
   "metadata": {},
   "outputs": [
    {
     "data": {
      "text/plain": [
       "24"
      ]
     },
     "execution_count": 83,
     "metadata": {},
     "output_type": "execute_result"
    }
   ],
   "source": [
    "sleep['Id'].nunique()"
   ]
  },
  {
   "cell_type": "code",
   "execution_count": 84,
   "id": "6fd77585",
   "metadata": {},
   "outputs": [
    {
     "name": "stdout",
     "output_type": "stream",
     "text": [
      "<class 'pandas.core.frame.DataFrame'>\n",
      "RangeIndex: 940 entries, 0 to 939\n",
      "Data columns (total 15 columns):\n",
      " #   Column                    Non-Null Count  Dtype         \n",
      "---  ------                    --------------  -----         \n",
      " 0   Id                        940 non-null    int64         \n",
      " 1   ActivityDate              940 non-null    datetime64[ns]\n",
      " 2   TotalSteps                940 non-null    int64         \n",
      " 3   TotalDistance             940 non-null    float64       \n",
      " 4   TrackerDistance           940 non-null    float64       \n",
      " 5   LoggedActivitiesDistance  940 non-null    float64       \n",
      " 6   VeryActiveDistance        940 non-null    float64       \n",
      " 7   ModeratelyActiveDistance  940 non-null    float64       \n",
      " 8   LightActiveDistance       940 non-null    float64       \n",
      " 9   SedentaryActiveDistance   940 non-null    float64       \n",
      " 10  VeryActiveMinutes         940 non-null    int64         \n",
      " 11  FairlyActiveMinutes       940 non-null    int64         \n",
      " 12  LightlyActiveMinutes      940 non-null    int64         \n",
      " 13  SedentaryMinutes          940 non-null    int64         \n",
      " 14  Calories                  940 non-null    int64         \n",
      "dtypes: datetime64[ns](1), float64(7), int64(7)\n",
      "memory usage: 110.3 KB\n"
     ]
    }
   ],
   "source": [
    "activity.info()"
   ]
  },
  {
   "cell_type": "code",
   "execution_count": 85,
   "id": "b6d57a86",
   "metadata": {},
   "outputs": [
    {
     "name": "stdout",
     "output_type": "stream",
     "text": [
      "<class 'pandas.core.frame.DataFrame'>\n",
      "RangeIndex: 22099 entries, 0 to 22098\n",
      "Data columns (total 3 columns):\n",
      " #   Column        Non-Null Count  Dtype         \n",
      "---  ------        --------------  -----         \n",
      " 0   Id            22099 non-null  int64         \n",
      " 1   ActivityHour  22099 non-null  datetime64[ns]\n",
      " 2   StepTotal     22099 non-null  int64         \n",
      "dtypes: datetime64[ns](1), int64(2)\n",
      "memory usage: 518.1 KB\n"
     ]
    }
   ],
   "source": [
    "steps.info()"
   ]
  },
  {
   "cell_type": "code",
   "execution_count": 86,
   "id": "ff85e86b",
   "metadata": {},
   "outputs": [
    {
     "name": "stdout",
     "output_type": "stream",
     "text": [
      "<class 'pandas.core.frame.DataFrame'>\n",
      "RangeIndex: 22099 entries, 0 to 22098\n",
      "Data columns (total 4 columns):\n",
      " #   Column            Non-Null Count  Dtype         \n",
      "---  ------            --------------  -----         \n",
      " 0   Id                22099 non-null  int64         \n",
      " 1   ActivityHour      22099 non-null  datetime64[ns]\n",
      " 2   TotalIntensity    22099 non-null  int64         \n",
      " 3   AverageIntensity  22099 non-null  float64       \n",
      "dtypes: datetime64[ns](1), float64(1), int64(2)\n",
      "memory usage: 690.7 KB\n"
     ]
    }
   ],
   "source": [
    "intensities.info()"
   ]
  },
  {
   "cell_type": "code",
   "execution_count": 87,
   "id": "ec359593",
   "metadata": {},
   "outputs": [
    {
     "name": "stdout",
     "output_type": "stream",
     "text": [
      "<class 'pandas.core.frame.DataFrame'>\n",
      "RangeIndex: 413 entries, 0 to 412\n",
      "Data columns (total 5 columns):\n",
      " #   Column              Non-Null Count  Dtype         \n",
      "---  ------              --------------  -----         \n",
      " 0   Id                  413 non-null    int64         \n",
      " 1   SleepDay            413 non-null    datetime64[ns]\n",
      " 2   TotalSleepRecords   413 non-null    int64         \n",
      " 3   TotalMinutesAsleep  413 non-null    int64         \n",
      " 4   TotalTimeInBed      413 non-null    int64         \n",
      "dtypes: datetime64[ns](1), int64(4)\n",
      "memory usage: 16.3 KB\n"
     ]
    }
   ],
   "source": [
    "sleep.info()"
   ]
  },
  {
   "cell_type": "code",
   "execution_count": null,
   "id": "d5bb7182",
   "metadata": {},
   "outputs": [],
   "source": [
    "# Find how many users are sedentary/lightly active/sufficiently active"
   ]
  },
  {
   "cell_type": "code",
   "execution_count": 88,
   "id": "4c995ad4",
   "metadata": {},
   "outputs": [
    {
     "data": {
      "text/plain": [
       "[Text(0.5, 1.0, 'Daily Calories vs Steps Taken'),\n",
       " Text(0.5, 0, 'Steps'),\n",
       " Text(0, 0.5, 'Calories')]"
      ]
     },
     "execution_count": 88,
     "metadata": {},
     "output_type": "execute_result"
    },
    {
     "data": {
      "image/png": "[encoded data removed]",
      "text/plain": [
       "<Figure size 432x288 with 1 Axes>"
      ]
     },
     "metadata": {
      "needs_background": "light"
     },
     "output_type": "display_data"
    }
   ],
   "source": [
    "# Let's graph (activites) calories vs total steps (scatter plot)\n",
    "sns.regplot(x = activity['TotalSteps'], y = activity['Calories'], scatter_kws = {'alpha' : 0.5}, line_kws = {'color' : '#EE4520'}).set(title = \"Daily Calories vs Steps Taken\", xlabel = \"Steps\", ylabel = \"Calories\")"
   ]
  },
  {
   "cell_type": "code",
   "execution_count": null,
   "id": "f43a848a",
   "metadata": {},
   "outputs": [],
   "source": []
  }
 ],
 "metadata": {
  "kernelspec": {
   "display_name": "Python 3",
   "language": "python",
   "name": "python3"
  },
  "language_info": {
   "codemirror_mode": {
    "name": "ipython",
    "version": 3
   },
   "file_extension": ".py",
   "mimetype": "text/x-python",
   "name": "python",
   "nbconvert_exporter": "python",
   "pygments_lexer": "ipython3",
   "version": "3.6.13"
  }
 },
 "nbformat": 4,
 "nbformat_minor": 5
}
